{
  "nbformat": 4,
  "nbformat_minor": 0,
  "metadata": {
    "colab": {
      "provenance": [],
      "authorship_tag": "ABX9TyPurFM1IJra972i98hzBHI5",
      "include_colab_link": true
    },
    "kernelspec": {
      "name": "python3",
      "display_name": "Python 3"
    },
    "language_info": {
      "name": "python"
    }
  },
  "cells": [
    {
      "cell_type": "markdown",
      "metadata": {
        "id": "view-in-github",
        "colab_type": "text"
      },
      "source": [
        "<a href=\"https://colab.research.google.com/github/nikita-panacea/Colab-files/blob/main/Download_and_Create_Kaggle_dataset.ipynb\" target=\"_parent\"><img src=\"https://colab.research.google.com/assets/colab-badge.svg\" alt=\"Open In Colab\"/></a>"
      ]
    },
    {
      "cell_type": "code",
      "execution_count": 1,
      "metadata": {
        "colab": {
          "base_uri": "https://localhost:8080/"
        },
        "id": "x1RM9LuC_Zu-",
        "outputId": "969fa3a4-9b55-4915-8e94-0d6db2197363"
      },
      "outputs": [
        {
          "output_type": "stream",
          "name": "stdout",
          "text": [
            "--2025-05-29 08:56:00--  https://panaceainfosec-my.sharepoint.com/:u:/p/nikita_trainee/EYzsmx6AifxPmGhDtHbT6pEBfpeac2lYzF3SiMMVSe4lwA?e=KSBHcd&download=1\n",
            "Resolving panaceainfosec-my.sharepoint.com (panaceainfosec-my.sharepoint.com)... 52.107.248.8, 52.107.248.19, 52.107.248.18, ...\n",
            "Connecting to panaceainfosec-my.sharepoint.com (panaceainfosec-my.sharepoint.com)|52.107.248.8|:443... connected.\n",
            "HTTP request sent, awaiting response... 302 \n",
            "Location: /personal/nikita_trainee_panaceainfosec_com/Documents/train_data.zip?ga=1 [following]\n",
            "--2025-05-29 08:56:01--  https://panaceainfosec-my.sharepoint.com/personal/nikita_trainee_panaceainfosec_com/Documents/train_data.zip?ga=1\n",
            "Reusing existing connection to panaceainfosec-my.sharepoint.com:443.\n",
            "HTTP request sent, awaiting response... 200 OK\n",
            "Length: 42963473276 (40G) [application/x-zip-compressed]\n",
            "Saving to: ‘dataset.zip’\n",
            "\n",
            "dataset.zip         100%[===================>]  40.01G  41.5MB/s    in 17m 24s \n",
            "\n",
            "2025-05-29 09:13:26 (39.3 MB/s) - ‘dataset.zip’ saved [42963473276/42963473276]\n",
            "\n",
            "Invalid folder: /kaggle/working\n",
            "Invalid folder: /kaggle/working\n",
            "Invalid folder: /kaggle/working\n"
          ]
        }
      ],
      "source": [
        "# 1. Download directly from SharePoint\n",
        "!wget -O dataset.zip \"https://panaceainfosec-my.sharepoint.com/:u:/p/nikita_trainee/EYzsmx6AifxPmGhDtHbT6pEBfpeac2lYzF3SiMMVSe4lwA?e=KSBHcd&download=1\"\n",
        "\n",
        "# 2. Install / configure the Kaggle API\n",
        "!pip install --quiet kaggle\n",
        "\n",
        "#  ⮕ Next, go to your local machine (once) and\n",
        "#     1. In your Kaggle “Account” settings, create a new API token.\n",
        "#     2. Upload the resulting kaggle.json file via the Notebook’s UI,\n",
        "#        then run:\n",
        "!mkdir -p ~/.kaggle\n",
        "!mv kaggle.json ~/.kaggle/\n",
        "!chmod 600 ~/.kaggle/kaggle.json\n",
        "\n",
        "# 3. Initialize a dataset (this will drop a template metadata file)\n",
        "!kaggle datasets init -p /kaggle/working\n",
        "\n",
        "#  ⮕ Edit /kaggle/working/dataset-metadata.json in-notebook or via the UI,\n",
        "#     filling in title, id, license, etc.\n",
        "\n",
        "# 4. Create the dataset, zipping your file “in place”\n",
        "!kaggle datasets create -p /kaggle/working --dir-mode zip\n",
        "#     filling in title, id, license, etc.\n",
        "\n",
        "# # 4. Create the dataset, zipping your file “in place”\n",
        "# !kaggle datasets create -p /kaggle/working --dir-mode zip"
      ]
    },
    {
      "cell_type": "code",
      "source": [
        "!wget -O dataset.zip \"https://panaceainfosec-my.sharepoint.com/:u:/p/nikita_trainee/EYzsmx6AifxPmGhDtHbT6pEBfpeac2lYzF3SiMMVSe4lwA?e=KSBHcd&download=1\"\n",
        "\n",
        "# 1️⃣ Install Kaggle & configure credentials\n",
        "!pip install --quiet kaggle\n",
        "\n",
        "!mkdir -p ~/.kaggle\n",
        "# If you haven't already done this via the UI, upload kaggle.json then:\n",
        "!mv kaggle.json ~/.kaggle/\n",
        "!chmod 600 ~/.kaggle/kaggle.json\n",
        "\n",
        "# 2️⃣ Prepare a clean dataset folder\n",
        "!rm -rf /content/kaggle_dataset\n",
        "!mkdir /content/kaggle_dataset\n",
        "\n",
        "# 3️⃣ Move (or symlink) your 40 GB ZIP into that folder\n",
        "#    (you can symlink if you prefer not to duplicate; we're moving here)\n",
        "!mv /content/dataset.zip /content/kaggle_dataset/\n",
        "\n",
        "# 4️⃣ Initialize the Kaggle metadata template\n",
        "!kaggle datasets init -p /content/kaggle_dataset\n",
        "\n",
        "#  At this point Colab will have dropped\n",
        "#    /content/kaggle_dataset/dataset-metadata.json\n",
        "#  Open it in the text editor (double-click in the Files pane) and fill in:\n",
        "#    • title\n",
        "#    • id (e.g. your-username/your-dataset-name)\n",
        "#    • licenses (e.g. CC0-1.0)\n",
        "#\n",
        "#  Save the JSON.\n",
        "\n",
        "# 5️⃣ Create the dataset, uploading exactly that ZIP “in place”\n",
        "!kaggle datasets create -p /content/kaggle_dataset --dir-mode zip\n"
      ],
      "metadata": {
        "colab": {
          "base_uri": "https://localhost:8080/"
        },
        "id": "U7skwWnNVBR1",
        "outputId": "301b5857-848b-420b-e177-5bf0cd9a8039"
      },
      "execution_count": 6,
      "outputs": [
        {
          "output_type": "stream",
          "name": "stdout",
          "text": [
            "--2025-05-29 09:26:40--  https://panaceainfosec-my.sharepoint.com/:u:/p/nikita_trainee/EYzsmx6AifxPmGhDtHbT6pEBfpeac2lYzF3SiMMVSe4lwA?e=KSBHcd&download=1\n",
            "Resolving panaceainfosec-my.sharepoint.com (panaceainfosec-my.sharepoint.com)... 13.107.136.10, 13.107.138.10, 2603:1061:13f2:2846::365:590, ...\n",
            "Connecting to panaceainfosec-my.sharepoint.com (panaceainfosec-my.sharepoint.com)|13.107.136.10|:443... connected.\n",
            "HTTP request sent, awaiting response... 302 Found\n",
            "Location: /personal/nikita_trainee_panaceainfosec_com/Documents/train_data.zip?ga=1 [following]\n",
            "--2025-05-29 09:26:41--  https://panaceainfosec-my.sharepoint.com/personal/nikita_trainee_panaceainfosec_com/Documents/train_data.zip?ga=1\n",
            "Reusing existing connection to panaceainfosec-my.sharepoint.com:443.\n",
            "HTTP request sent, awaiting response... 200 OK\n",
            "Length: 42963473276 (40G) [application/x-zip-compressed]\n",
            "Saving to: ‘dataset.zip’\n",
            "\n",
            "dataset.zip         100%[===================>]  40.01G  46.8MB/s    in 15m 51s \n",
            "\n",
            "2025-05-29 09:42:32 (43.1 MB/s) - ‘dataset.zip’ saved [42963473276/42963473276]\n",
            "\n",
            "Data package template written to: /content/kaggle_dataset/dataset-metadata.json\n",
            "Default slug detected, please change values before uploading\n"
          ]
        }
      ]
    },
    {
      "cell_type": "code",
      "source": [
        "# 5️⃣ Create the dataset, uploading exactly that ZIP “in place”\n",
        "!kaggle datasets create -p /content/kaggle_dataset --dir-mode zip"
      ],
      "metadata": {
        "colab": {
          "base_uri": "https://localhost:8080/"
        },
        "id": "BWloSox9WK3E",
        "outputId": "63ffd968-b372-4304-e01e-9ab77c146877"
      },
      "execution_count": 7,
      "outputs": [
        {
          "output_type": "stream",
          "name": "stdout",
          "text": [
            "Starting upload for file dataset.zip\n",
            "100% 40.0G/40.0G [07:11<00:00, 99.6MB/s]\n",
            "Upload successful: dataset.zip (40GB)\n",
            "Your private Dataset is being created. Please check progress at https://www.kaggle.com/datasets/nikita2998/chest-xray-40gb\n"
          ]
        }
      ]
    }
  ]
}